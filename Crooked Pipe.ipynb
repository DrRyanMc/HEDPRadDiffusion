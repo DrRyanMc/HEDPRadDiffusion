{
 "cells": [
  {
   "cell_type": "code",
   "execution_count": 1,
   "metadata": {},
   "outputs": [],
   "source": [
    "include(\"fld.jl\")\n",
    "using PyPlot\n",
    "using CSV"
   ]
  },
  {
   "cell_type": "code",
   "execution_count": 2,
   "metadata": {},
   "outputs": [
    {
     "data": {
      "image/png": "[encoded data removed]",
      "text/plain": [
       "PyPlot.Figure(PyObject <Figure size 700x200 with 1 Axes>)"
      ]
     },
     "metadata": {},
     "output_type": "display_data"
    },
    {
     "name": "stdout",
     "output_type": "stream",
     "text": [
      "Running until time 5.0\n",
      "Size of domain in Z is 7.0\n"
     ]
    },
    {
     "data": {
      "text/plain": [
       "PyObject <matplotlib.collections.QuadMesh object at 0x7f85582c0890>"
      ]
     },
     "execution_count": 2,
     "metadata": {},
     "output_type": "execute_result"
    }
   ],
   "source": [
    "tfinal = 5.\n",
    "println(\"Running until time $(tfinal)\")\n",
    "Nr = 40\n",
    "Nz = 140\n",
    "Lz = 7.\n",
    "println(\"Size of domain in Z is $(Lz)\")\n",
    "Lr = 2.\n",
    "dr = Lr/Nr\n",
    "dz = Lz/Nz\n",
    "\n",
    "T = zeros(Nr*Nz)+1.0e-8\n",
    "\n",
    "function sigma_func(t,T,Nr,Nz,Lr,Lz)\n",
    "    sigma = zeros(Nr,Nz) + 10*20.0\n",
    "    dr = Lr/Nr\n",
    "    dz = Lz/Nz\n",
    "    rcenter = linspace(0.5*dr, Lr-0.5*dr, Nr)\n",
    "    zcenter = linspace(0.5*dz, Lz-0.5*dz, Nz)\n",
    "    for i in 1:Nr\n",
    "        for j in 1:Nz\n",
    "            if ((rcenter[i] + dr*0.5) < 0.5) & (abs(zcenter[j] - 3.5) >=0.5)\n",
    "                sigma[i,j] = 0.01*20\n",
    "            elseif ((rcenter[i] + dr*0.5) < 1.5) & (abs(zcenter[j] - 2.75) <=0.25)\n",
    "                sigma[i,j] = 0.01*20\n",
    "            elseif ((rcenter[i] + dr*0.5) < 1.5) & (abs(zcenter[j] - 4.25) <=0.25)\n",
    "                sigma[i,j] = 0.01*20\n",
    "            elseif ( (rcenter[i] + dr*0.5  < 1.5) & (rcenter[i] - dr*0.5  > 1.0)) & (abs(zcenter[j] - 3.5) <= 1.0)\n",
    "                sigma[i,j] = 0.01*20\n",
    "            end\n",
    "        end\n",
    "    end\n",
    "    sigma\n",
    "end\n",
    "\n",
    "function Cv_func(t,T,Nr,Nz,Lr,Lz)\n",
    "    cv = zeros(Nr,Nz) + 10*0.05\n",
    "    dr = Lr/Nr\n",
    "    dz = Lz/Nz\n",
    "    rcenter = linspace(0.5*dr, Lr-0.5*dr, Nr)\n",
    "    zcenter = linspace(0.5*dz, Lz-0.5*dz, Nz)\n",
    "    for i in 1:Nr\n",
    "        for j in 1:Nz\n",
    "            if ((rcenter[i] + dr*0.5) < 0.5) & (abs(zcenter[j] - 3.5) >=0.5)\n",
    "                cv[i,j] = 0.01*0.05\n",
    "            elseif ((rcenter[i] + dr*0.5) < 1.5) & (abs(zcenter[j] - 2.75) <=0.25)\n",
    "                cv[i,j] = 0.01*0.05\n",
    "            elseif ((rcenter[i] + dr*0.5) < 1.5) & (abs(zcenter[j] - 4.25) <=0.25)\n",
    "                cv[i,j] = 0.01*0.05\n",
    "            elseif ( (rcenter[i] + dr*0.5  < 1.5) & (rcenter[i] - dr*0.5  > 1.0)) & (abs(zcenter[j] - 3.5) <= 1.0)\n",
    "                cv[i,j] = 0.01*0.05\n",
    "            end\n",
    "        end\n",
    "    end\n",
    "    cv                 \n",
    "end\n",
    "function D_func(t,T,Nr,Nz,Lr,Lz,Er_tmp,sigma) \n",
    "    #larsen n=2 flux limiter\n",
    "    Er = reshape(T,Nr,Nz)\n",
    "    idz = Nz/Lz\n",
    "    idr = Nr/Lr\n",
    "    D = zeros(Nr,Nz) \n",
    "    for i in 1:Nr\n",
    "        for j in 1:Nz\n",
    "            gradE = zeros(2)\n",
    "            if (i > 1)\n",
    "                gradE[1] += (Er[i,j]-Er[i-1,j])*idr*0.5\n",
    "            end\n",
    "            if (i < Nr)\n",
    "                gradE[1] += (Er[i+1,j]-Er[i,j])*idr*0.5\n",
    "            end\n",
    "            if (j > 1)\n",
    "                gradE[2] += (Er[i,j]-Er[i,j-1])*idz*0.5\n",
    "            end\n",
    "            if (j < Nz)\n",
    "                gradE[2] += (Er[i,j+1]-Er[i,j])*idz*0.5\n",
    "            end\n",
    "            normGradE = sqrt(gradE[1]^2 + gradE[2]^2)/(Er[i,j] + 1e-12)\n",
    "            \n",
    "            D[i,j] = 1.0./sqrt( (3.0*sigma[i,j])^2 + normGradE^2)\n",
    "        end\n",
    "    end\n",
    "    D\n",
    "end\n",
    "\n",
    "function EOS(t,T,Nr,Nz,Lr,Lz)\n",
    "    T_tmp = reshape(T,Nr,Nz)\n",
    "    E = zeros(Nr,Nz) + T_tmp*(10*0.05)\n",
    "    dr = Lr/Nr\n",
    "    dz = Lz/Nz\n",
    "    rcenter = linspace(0.5*dr, Lr-0.5*dr, Nr)\n",
    "    zcenter = linspace(0.5*dz, Lz-0.5*dz, Nz)\n",
    "    for i in 1:Nr\n",
    "        for j in 1:Nz\n",
    "            if ((rcenter[i] + dr*0.5) < 0.5) & (abs(zcenter[j] - 3.5) >=0.5)\n",
    "                E[i,j] = T_tmp[i,j]*(0.01*0.05)\n",
    "            elseif ((rcenter[i] + dr*0.5) < 1.5) & (abs(zcenter[j] - 2.75) <=0.25)\n",
    "                E[i,j] = T_tmp[i,j]*(0.01*0.05)\n",
    "            elseif ((rcenter[i] + dr*0.5) < 1.5) & (abs(zcenter[j] - 4.25) <=0.25)\n",
    "                E[i,j] = T_tmp[i,j]*(0.01*0.05)\n",
    "            elseif ( (rcenter[i] + dr*0.5  < 1.5) & (rcenter[i] - dr*0.5  > 1.0)) & (abs(zcenter[j] - 3.5) <= 1.0)\n",
    "                E[i,j] = T_tmp[i,j]*(0.01*0.05)\n",
    "            end\n",
    "        end\n",
    "    end\n",
    "    reshape(E,Nr*Nz)                 \n",
    "end\n",
    "\n",
    "function invEOS(t,T,Nr,Nz,Lr,Lz)\n",
    "    E_tmp = reshape(T,Nr,Nz)\n",
    "    T = zeros(Nr,Nz) + E_tmp/(10*0.05)\n",
    "    dr = Lr/Nr\n",
    "    dz = Lz/Nz\n",
    "    rcenter = linspace(0.5*dr, Lr-0.5*dr, Nr)\n",
    "    zcenter = linspace(0.5*dz, Lz-0.5*dz, Nz)\n",
    "    for i in 1:Nr\n",
    "        for j in 1:Nz\n",
    "            if ((rcenter[i] + dr*0.5) < 0.5) & (abs(zcenter[j] - 3.5) >=0.5)\n",
    "                T[i,j] = E_tmp[i,j]/(0.01*0.05)\n",
    "            elseif ((rcenter[i] + dr*0.5) < 1.0) & (abs(zcenter[j] - 2.75) <=0.25)\n",
    "                T[i,j] = E_tmp[i,j]/(0.01*0.05)\n",
    "            elseif ((rcenter[i] + dr*0.5) < 1.0) & (abs(zcenter[j] - 4.25) <=0.25)\n",
    "                T[i,j] = E_tmp[i,j]/(0.01*0.05)\n",
    "            elseif ( (rcenter[i] + dr*0.5  < 1.5) & (rcenter[i] - dr*0.5  > 1.0)) & (abs(zcenter[j] - 3.5) <= 1.0)\n",
    "                T[i,j] = E_tmp[i,j]/(0.01*0.05)\n",
    "            end\n",
    "        end\n",
    "    end\n",
    "    reshape(T,Nr*Nz)                 \n",
    "end\n",
    "\n",
    "function Q_func(t,T,Nr,Nz,Lr,Lz)\n",
    "    Q = zeros(Nr,Nz)\n",
    "end\n",
    "\n",
    "rcenter = linspace(0.5*dr, Lr-0.5*dr, Nr)\n",
    "zcenter = linspace(0.5*dz, Lz-0.5*dz, Nz)\n",
    "R,Z = meshgrid(rcenter,zcenter)\n",
    "sig = sigma_func(0,T,Nr,Nz,Lr,Lz)\n",
    "figure(figsize=(7,2))\n",
    "pcolormesh(Z,R,(sig))"
   ]
  },
  {
   "cell_type": "code",
   "execution_count": 3,
   "metadata": {},
   "outputs": [
    {
     "name": "stdout",
     "output_type": "stream",
     "text": [
      "1001\n",
      "Step 1001, t = 5.0\n"
     ]
    }
   ],
   "source": [
    "dt = 0.005\n",
    "times, Er_t,T_t = time_dep_RT(tfinal,dt,T,zeros(Nr*Nz),D_func, sigma_func, Q_func,Cv_func,EOS,invEOS,\n",
    "                      Nr, Nz, Lr, Lz, lower_z=a*.3^4, upper_z=\"vacuum\", upper_r=\"refl\",LOUD=-1,\n",
    "    fname=\"runs/crooked_pipe$(Nr)_$(Nz)_$(dt).jld\");"
   ]
  },
  {
   "cell_type": "code",
   "execution_count": 4,
   "metadata": {},
   "outputs": [
    {
     "data": {
      "image/png": "[encoded data removed]",
      "text/plain": [
       "PyPlot.Figure(PyObject <Figure size 700x200 with 2 Axes>)"
      ]
     },
     "metadata": {},
     "output_type": "display_data"
    },
    {
     "data": {
      "text/plain": [
       "(0.025, 6.975, 0.025, 1.975)"
      ]
     },
     "execution_count": 4,
     "metadata": {},
     "output_type": "execute_result"
    }
   ],
   "source": [
    "Tr_plot = reshape((Er_t[:,size(times)[1]]/a).^.25,Nr,Nz)\n",
    "figure(figsize=(7,2))\n",
    "pcolormesh(Z,R,Tr_plot)\n",
    "colorbar()\n",
    "axis(\"scaled\")"
   ]
  },
  {
   "cell_type": "code",
   "execution_count": 5,
   "metadata": {},
   "outputs": [
    {
     "data": {
      "image/png": "[encoded data removed]",
      "text/plain": [
       "PyPlot.Figure(PyObject <Figure size 700x200 with 2 Axes>)"
      ]
     },
     "metadata": {},
     "output_type": "display_data"
    },
    {
     "data": {
      "text/plain": [
       "(0.025, 6.975, 0.025, 1.975)"
      ]
     },
     "execution_count": 5,
     "metadata": {},
     "output_type": "execute_result"
    }
   ],
   "source": [
    "T_plot = reshape(T_t[:,size(times)[1]],Nr,Nz)\n",
    "figure(figsize=(7,2))\n",
    "pcolormesh(Z,R,T_plot)\n",
    "colorbar()\n",
    "ylim(0,2)\n",
    "xlim(0,7)\n",
    "axis(\"scaled\")"
   ]
  },
  {
   "cell_type": "code",
   "execution_count": null,
   "metadata": {
    "collapsed": true
   },
   "outputs": [],
   "source": []
  }
 ],
 "metadata": {
  "kernelspec": {
   "display_name": "Julia 0.6.3",
   "language": "julia",
   "name": "julia-0.6"
  },
  "language_info": {
   "file_extension": ".jl",
   "mimetype": "application/julia",
   "name": "julia",
   "version": "0.6.3"
  }
 },
 "nbformat": 4,
 "nbformat_minor": 2
}
