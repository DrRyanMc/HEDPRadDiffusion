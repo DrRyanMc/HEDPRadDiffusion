{
 "cells": [
  {
   "cell_type": "code",
   "execution_count": 103,
   "metadata": {},
   "outputs": [],
   "source": [
    "import numpy as np\n",
    "import matplotlib.pyplot as plt\n",
    "import math\n",
    "from scipy import interpolate\n",
    "from scipy import integrate\n",
    "from scipy import optimize\n",
    "import time\n",
    "import numpy as np\n",
    "import matplotlib\n",
    "import matplotlib.pyplot as plt\n",
    "from math import sqrt"
   ]
  },
  {
   "cell_type": "code",
   "execution_count": 158,
   "metadata": {},
   "outputs": [],
   "source": [
    "#radiation constant in GJ/keV^4/cm^3\n",
    "a = 0.01372\n",
    "#speed of light in cm/sh; 1 sh is 10^-8 s\n",
    "c = 299.98\n",
    "Planck_int_const = 15*a*c/(4*math.pi**5)\n",
    "\n",
    "\n",
    "def RHS(Tvect,t,Nx,dx,sigma1,chi1,sigma2,chi2,Cve,invEOS,Q1,Q2,Tl,f):\n",
    "    E1 = Tvect[0:Nx]\n",
    "    E2 = Tvect[Nx:(2*Nx)]\n",
    "    Te = Tvect[2*Nx:]*0\n",
    "    E = Tvect[2*Nx:]\n",
    "    \n",
    "    idx2 = 1.0/dx/dx\n",
    "    xs = np.linspace(dx/2,Nx*dx-dx/2,Nx)\n",
    "    E1new = E1*0\n",
    "    E2new = E1*0\n",
    "    Enew = Te*0\n",
    "    \n",
    "    #compute T\n",
    "    for i in range(Nx):\n",
    "        Te[i] = invEOS(t,E[i])\n",
    "    \n",
    "    for i in range(Nx):\n",
    "            \n",
    "        chi1_eval = chi1(t,Te[i])\n",
    "        chi2_eval = chi2(t,Te[i])\n",
    "        f_eval = f(Te[i])\n",
    "        if (i>0) and (i<Nx-1):\n",
    "            kappa1_l = sigma1(t,(Te[i-1]+Te[i])*0.5)\n",
    "            kappa1_r = sigma1(t,(Te[i+1]+Te[i])*0.5)\n",
    "            kappa2_l = sigma2(t,(Te[i-1]+Te[i])*0.5)\n",
    "            kappa2_r = sigma2(t,(Te[i+1]+Te[i])*0.5)\n",
    "            #we assume that the form of the opacity is the same\n",
    "            #so we do not need to do the harmonic mean trick\n",
    "            D1_l = c/(3.0*kappa1_l)\n",
    "            D1_r = c/(3.0*kappa1_r)\n",
    "            D2_l = c/(3.0*kappa2_l)\n",
    "            D2_r = c/(3.0*kappa2_r)\n",
    "            \n",
    "            E1new[i] = (D1_r*idx2*(E1[i+1]-E1[i]) - D1_l*idx2*(E1[i]-E1[i-1]) - \n",
    "                         c*sigma1(t,Te[i])*E1[i] + a*c*Te[i]**4*chi1_eval*f_eval + Q1(t,xs[i],Te[i]))\n",
    "            E2new[i] = (D2_r*idx2*(E2[i+1]-E2[i]) - D2_l*idx2*(E2[i]-E2[i-1]) - \n",
    "                         c*sigma2(t,Te[i])*E2[i] + a*c*Te[i]**4*chi2_eval*(1-f_eval) + Q2(t,xs[i],Te[i]))\n",
    "            \n",
    "        elif (i==0):\n",
    "            kappa1_l = sigma1(t,(Tl+Te[i])*0.5)\n",
    "            kappa1_r = sigma1(t,(Te[i+1]+Te[i])*0.5)\n",
    "            kappa2_l = sigma2(t,(Tl+Te[i])*0.5)\n",
    "            kappa2_r = sigma2(t,(Te[i+1]+Te[i])*0.5)\n",
    "            #we assume that the form of the opacity is the same\n",
    "            #so we do not need to do the harmonic mean trick\n",
    "            D1_l = c/(3.0*kappa1_l)\n",
    "            D1_r = c/(3.0*kappa1_r)\n",
    "            D2_l = c/(3.0*kappa2_l)\n",
    "            D2_r = c/(3.0*kappa2_r)\n",
    "            \n",
    "            E1new[i] = (D1_r*idx2*(E1[i+1]-E1[i]) - D1_l*idx2*(E1[i]-a*Tl**4*f_eval) - \n",
    "                         c*sigma1(t,Te[i])*E1[i] + a*c*Te[i]**4*chi1_eval*f_eval + Q1(t,xs[i],Te[i]))\n",
    "            E2new[i] = (D2_r*idx2*(E2[i+1]-E2[i]) - D2_l*idx2*(E2[i]-a*Te[i]**4*(1-f_eval)) - \n",
    "                         c*sigma2(t,Te[i])*E2[i] + a*c*Te[i]**4*chi2_eval*(1-f_eval) + Q2(t,xs[i],Te[i]))\n",
    "            \n",
    "        elif (i==Nx-1):\n",
    "            \n",
    "            #Reflecting boundary so that the derivative goes to zero\n",
    "            kappa1_l = sigma1(t,(Te[i-1]+Te[i])*0.5)\n",
    "            kappa2_l = sigma2(t,(Te[i-1]+Te[i])*0.5)\n",
    "            #we assume that the form of the opacity is the same\n",
    "            #so we do not need to do the harmonic mean trick\n",
    "            D1_l = c/(3.0*kappa1_l)\n",
    "            D2_l = c/(3.0*kappa2_l)\n",
    "            \n",
    "            E1new[i] = (0 - D1_l*idx2*(E1[i]-E1[i-1]) - \n",
    "                         c*sigma1(t,Te[i])*E1[i] + a*c*Te[i]**4*chi1_eval*f_eval + Q1(t,xs[i],Te[i]))\n",
    "            E2new[i] = (0 - D2_l*idx2*(E2[i]-E2[i-1]) - \n",
    "                         c*sigma2(t,Te[i])*E2[i] + a*c*Te[i]**4*chi2_eval*(1-f_eval) + Q2(t,xs[i],Te[i]))\n",
    "        Enew[i] =  (c*sigma1(t,Te[i])*E1[i] + c*sigma2(t,Te[i])*E2[i] - \n",
    "                                      a*c*Te[i]**4*chi2_eval*(1-f_eval) - a*c*Te[i]**4*chi1_eval*f_eval)\n",
    "\n",
    "    Tfinal = np.zeros(Nx*3)\n",
    "    Tfinal[0:Nx] = E1new.copy()\n",
    "    Tfinal[Nx:(2*Nx)] = E2new.copy()\n",
    "    Tfinal[(2*Nx):] = Enew.copy()\n",
    "    return Tfinal"
   ]
  },
  {
   "cell_type": "code",
   "execution_count": 159,
   "metadata": {},
   "outputs": [],
   "source": [
    "\n",
    "def f(T,nu0):\n",
    "    r = nu0/T\n",
    "    r3 = r**3\n",
    "    r2 = r**2\n",
    "    res = 0\n",
    "    for n in range(1,7):\n",
    "        a0 = 1/n\n",
    "        a1 = 3/n**2\n",
    "        a2 = 6/n**3\n",
    "        a3 = 6/n**4\n",
    "        res += (a0*r3 + a1*r2 + a2*r + a3 ) * math.exp(-n*r)\n",
    "    return 1-15/math.pi**4 * res"
   ]
  },
  {
   "cell_type": "code",
   "execution_count": 115,
   "metadata": {},
   "outputs": [],
   "source": [
    "#set up initial conditions\n",
    "Lx = 4.0\n",
    "Nx = 100\n",
    "dx = Lx/Nx\n",
    "xval = np.linspace(dx/2,Lx-dx/2,Nx)\n",
    "\n",
    "nu0 = 10.0\n",
    "fT = lambda T: f(T,nu0)\n",
    "\n",
    "sigma1 = lambda t, Te: 1.0\n",
    "sigma2 = lambda t, Te: 1.0e-9\n",
    "chi1 = lambda t, Te: 1.0\n",
    "chi2 = lambda t, Te: 1.0e-9\n",
    "Q1 = lambda t, x, Te: 1.0*(x>=(Lx-0.5))\n",
    "Q2 = lambda t, x, Te: 0.0\n",
    "Cve = lambda t,Te: 4*a*Te**3\n",
    "invEOS = lambda t,E: (E/a)**.25\n",
    "Tl = 0.0\n",
    "RHS_lam = lambda t,Tvect: RHS(Tvect,t,Nx,dx,sigma1,chi1,sigma2,chi2,Cve,invEOS,Q1,Q2,Tl,fT)\n",
    "\n",
    "\n",
    "Te_init = np.zeros(Nx) + 1e-3\n",
    "Tfull_init = np.zeros(Nx*3)\n",
    "Tfull_init[0:Nx] = Te_init**4 * a*fT(Te_init[0])\n",
    "Tfull_init[Nx:2*Nx] = Te_init**4 * a*c*(1-fT(Te_init[0]))\n",
    "Tfull_init[2*Nx:] = Cve(0,1e-3)*Te_init"
   ]
  },
  {
   "cell_type": "code",
   "execution_count": 95,
   "metadata": {},
   "outputs": [],
   "source": [
    "sol = integrate.solve_ivp(RHS_lam, (0,1/c), Tfull_init, \n",
    "                                         method='BDF', max_step = 1e-3)"
   ]
  },
  {
   "cell_type": "code",
   "execution_count": 102,
   "metadata": {},
   "outputs": [
    {
     "data": {
      "text/plain": [
       "[<matplotlib.lines.Line2D at 0x7f9db0e20470>]"
      ]
     },
     "execution_count": 102,
     "metadata": {},
     "output_type": "execute_result"
    },
    {
     "data": {
      "image/png": "[encoded data removed]",
      "text/plain": [
       "<Figure size 432x288 with 1 Axes>"
      ]
     },
     "metadata": {
      "needs_background": "light"
     },
     "output_type": "display_data"
    }
   ],
   "source": [
    "\n",
    "plt.plot(Lx-xval,(sol.y[0:Nx,-1])*c)\n",
    "plt.plot(Lx-xval,sol.y[Nx:2*Nx,-1]*c)\n",
    "plt.plot(Lx-xval,sol.y[Nx*2:,-1]*c)"
   ]
  },
  {
   "cell_type": "code",
   "execution_count": 162,
   "metadata": {},
   "outputs": [],
   "source": [
    "#set up initial conditions\n",
    "Lx = 5.0\n",
    "Nx = 100\n",
    "dx = Lx/Nx\n",
    "xval = np.linspace(dx/2,Lx-dx/2,Nx)\n",
    "\n",
    "nu0 = 0.5\n",
    "fT = lambda T: f(T,nu0)\n",
    "\n",
    "sigma1 = lambda t, Te: 1.0\n",
    "sigma2 = lambda t, Te: 1.0/3.0\n",
    "chi1 = lambda t, Te: 0.75\n",
    "chi2 = lambda t, Te: 0.25*fT(Te)/(1-fT(Te)+1e-12)\n",
    "Q1 = lambda t, x, Te: 1.0*(x>=(Lx-0.5))\n",
    "Q2 = lambda t, x, Te: 0.0\n",
    "delta = 1e-4\n",
    "Cve = lambda t,Te: (fT(Te+delta)*a*(Te+delta)**4-fT(Te)*a*Te**4)/delta\n",
    "EOS = lambda t,T: fT(T)*a*T**4\n",
    "invEOS = lambda t,E: optimize.brentq(lambda Ts: EOS(t,Ts)-E, 1e-10, 100,disp=True) \n",
    "Tl = 0.0\n",
    "RHS_lam = lambda t,Tvect: RHS(Tvect,t,Nx,dx,sigma1,chi1,sigma2,chi2,Cve,invEOS,Q1,Q2,Tl,fT)\n",
    "\n",
    "\n",
    "Te_init = np.zeros(Nx) + 1e-3\n",
    "Tfull_init = np.zeros(Nx*3)\n",
    "Tfull_init[0:Nx] = Te_init**4 * a*fT(Te_init[0])\n",
    "Tfull_init[Nx:2*Nx] = Te_init**4 * a*c*(1-fT(Te_init[0]))\n",
    "Tfull_init[2*Nx:] = Cve(0,1e-3)*Te_init"
   ]
  },
  {
   "cell_type": "code",
   "execution_count": 163,
   "metadata": {},
   "outputs": [],
   "source": [
    "sol = integrate.solve_ivp(RHS_lam, (0,5/c), Tfull_init, \n",
    "                                         method='BDF', max_step = 1e-3)"
   ]
  },
  {
   "cell_type": "code",
   "execution_count": 166,
   "metadata": {},
   "outputs": [
    {
     "data": {
      "text/plain": [
       "[<matplotlib.lines.Line2D at 0x7f9dd125d860>]"
      ]
     },
     "execution_count": 166,
     "metadata": {},
     "output_type": "execute_result"
    },
    {
     "data": {
      "image/png": "[encoded data removed]",
      "text/plain": [
       "<Figure size 432x288 with 1 Axes>"
      ]
     },
     "metadata": {
      "needs_background": "light"
     },
     "output_type": "display_data"
    }
   ],
   "source": [
    "\n",
    "plt.plot(Lx-xval,(sol.y[0:Nx,-1])*c)\n",
    "plt.plot(Lx-xval,sol.y[Nx:2*Nx,-1]*c)\n",
    "plt.plot(Lx-xval,sol.y[Nx*2:,-1]*c)"
   ]
  },
  {
   "cell_type": "code",
   "execution_count": 129,
   "metadata": {},
   "outputs": [
    {
     "name": "stdout",
     "output_type": "stream",
     "text": [
      "1.0\n"
     ]
    }
   ],
   "source": [
    "print(fT(1e-6))"
   ]
  },
  {
   "cell_type": "code",
   "execution_count": null,
   "metadata": {},
   "outputs": [],
   "source": []
  }
 ],
 "metadata": {
  "kernelspec": {
   "display_name": "Python 3",
   "language": "python",
   "name": "python3"
  },
  "language_info": {
   "codemirror_mode": {
    "name": "ipython",
    "version": 3
   },
   "file_extension": ".py",
   "mimetype": "text/x-python",
   "name": "python",
   "nbconvert_exporter": "python",
   "pygments_lexer": "ipython3",
   "version": "3.7.3"
  }
 },
 "nbformat": 4,
 "nbformat_minor": 2
}
