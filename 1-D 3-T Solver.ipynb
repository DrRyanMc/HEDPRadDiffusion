{
 "cells": [
  {
   "cell_type": "code",
   "execution_count": 1,
   "metadata": {},
   "outputs": [],
   "source": [
    "import numpy as np\n",
    "import matplotlib.pyplot as plt\n",
    "import math\n",
    "from scipy import interpolate\n",
    "from scipy import integrate\n",
    "import time\n",
    "import numpy as np\n",
    "import matplotlib\n",
    "import matplotlib.pyplot as plt\n",
    "from math import sqrt"
   ]
  },
  {
   "cell_type": "code",
   "execution_count": 2,
   "metadata": {},
   "outputs": [],
   "source": [
    "#radiation constant in GJ/keV^4/cm^3\n",
    "a = 0.01372\n",
    "#speed of light in cm/sh; 1 sh is 10^-8 s\n",
    "c = 299.98\n",
    "Planck_int_const = 15*a*c/(4*math.pi**5)\n",
    "\n",
    "\n",
    "def RHS(Tvect,t,Nx,dx,tau,sigma,Cve,Cvi,Tl):\n",
    "    Te = Tvect[0:Nx]\n",
    "    Ti = Tvect[Nx:]\n",
    "    \n",
    "    idx2 = 1.0/dx/dx\n",
    "    TeNew = Te*0\n",
    "    TiNew = Ti*0\n",
    "    for i in range(Nx):\n",
    "        if (i>0) and (i<Nx-1):\n",
    "            kappa_l = sigma(t,(Te[i-1]+Te[i])*0.5)\n",
    "            kappa_r = sigma(t,(Te[i+1]+Te[i])*0.5)\n",
    "            itau = tau(t,Te[i],Ti[i])\n",
    "            #we assume that the form of the opacity is the same\n",
    "            #so we do not need to do the harmonic mean trick\n",
    "            D_l = a*c/(3.0*kappa_l)\n",
    "            D_r = a*c/(3.0*kappa_r)\n",
    "            TeNew[i] =  1.0/Cve(t,Te[i])*(D_r*idx2*(Te[i+1]**4-Te[i]**4) - D_l*idx2*(Te[i]**4-Te[i-1]**4)+ \n",
    "                                        + itau*(Ti[i]-Te[i]))\n",
    "        elif (i==0):\n",
    "            kappa_l = sigma(t,0.5*(Tl+Te[i]))\n",
    "            kappa_r = sigma(t,(Te[i+1]+Te[i])*0.5)\n",
    "            itau = tau(t,Te[i],Ti[i])\n",
    "            #Temperature on other side of boundary is Tl\n",
    "            D_l = a*c/(3.0*kappa_l)\n",
    "            D_r = a*c/(3.0*kappa_r)\n",
    "            TeNew[i] =  1.0/Cve(t,Te[i])*(D_r*idx2*(Te[i+1]**4-Te[i]**4) - D_l*idx2*(Te[i]**4-Tl**4)+ \n",
    "                                        + itau*(Ti[i]-Te[i]))\n",
    "        elif (i==Nx-1):\n",
    "            kappa_l = sigma(t,(Te[i-1]+Te[i])*0.5)\n",
    "            itau = tau(t,Te[i],Ti[i])\n",
    "            #Reflecting boundary so that the derivative goes to zero\n",
    "            D_l = c/(3.0*kappa_l)\n",
    "            TeNew[i] =  1.0/Cve(t,Te[i])*( - D_l*idx2*(Te[i]**4-Te[i-1]**4)+ \n",
    "                                         + itau*(Ti[i]-Te[i]))\n",
    "        TiNew[i] =  1.0/Cvi(t,Ti[i])*itau*(Te[i]-Ti[i])\n",
    "    Tfinal = np.zeros(Nx*2)\n",
    "    Tfinal[0:Nx] = TeNew.copy()\n",
    "    Tfinal[Nx:] = TiNew.copy()\n",
    "    return Tfinal"
   ]
  },
  {
   "cell_type": "code",
   "execution_count": 13,
   "metadata": {},
   "outputs": [],
   "source": [
    "#set up initial conditions\n",
    "Lx = 0.15\n",
    "Nx = 200\n",
    "dx = Lx/Nx\n",
    "xval = np.linspace(dx/2,Lx-dx/2,Nx)\n",
    "Te_init = np.zeros(Nx) + 1e-12\n",
    "Ti_init = np.zeros(Nx) + 1e-12\n",
    "Tfull_init = np.zeros(Nx*2)\n",
    "Tfull_init[0:Nx] = Te_init.copy()\n",
    "Tfull_init[Nx:] = Ti_init.copy()\n",
    "\n",
    "sigma = lambda t, Te: 300*Te**-3\n",
    "g0 = 1.0\n",
    "tau = lambda t, Te,Ti: g0*0.5/(t+1.0e-14)\n",
    "rho = 3.0\n",
    "Cve = lambda t,Te: 0.1*rho\n",
    "Cvi = lambda t,Ti: 0.05*rho\n",
    "Tl = 1.0\n",
    "RHS_lam = lambda t,Tvect: RHS(Tvect,t,Nx,dx,tau,sigma,Cve,Cvi,Tl)"
   ]
  },
  {
   "cell_type": "code",
   "execution_count": 14,
   "metadata": {},
   "outputs": [
    {
     "name": "stderr",
     "output_type": "stream",
     "text": [
      "/anaconda3/lib/python3.7/site-packages/scipy/integrate/_ivp/bdf.py:403: RuntimeWarning: invalid value encountered in subtract\n",
      "  D[order + 2] = d - D[order + 1]\n"
     ]
    }
   ],
   "source": [
    "sol = integrate.solve_ivp(RHS_lam, (0,1), Tfull_init, \n",
    "                                         method='BDF', max_step = 1e-3)"
   ]
  },
  {
   "cell_type": "code",
   "execution_count": 15,
   "metadata": {},
   "outputs": [
    {
     "data": {
      "text/plain": [
       "(0, 0.2)"
      ]
     },
     "execution_count": 15,
     "metadata": {},
     "output_type": "execute_result"
    },
    {
     "data": {
      "image/png": "[encoded data removed]",
      "text/plain": [
       "<Figure size 432x288 with 1 Axes>"
      ]
     },
     "metadata": {
      "needs_background": "light"
     },
     "output_type": "display_data"
    }
   ],
   "source": [
    "#plt.plot(sol.y[0,0:Nx])\n",
    "#bench=np.genfromtxt('marshak_1sh.csv', delimiter=',')[1:,:]\n",
    "bench = np.loadtxt('g1.csv', delimiter=\",\")\n",
    "plt.plot(bench[:,0],bench[:,1],'--')\n",
    "plt.plot(bench[:,0],bench[:,2],'--')\n",
    "plt.plot(xval,sol.y[0:Nx,-1])\n",
    "plt.plot(xval,sol.y[Nx:,-1])\n",
    "plt.xlim(0,0.2)"
   ]
  },
  {
   "cell_type": "code",
   "execution_count": 11,
   "metadata": {},
   "outputs": [
    {
     "name": "stdout",
     "output_type": "stream",
     "text": [
      "[0.12525 0.12675 0.12825 0.12975] [1.64542433e-02 1.14620228e-12 1.00000000e-12 1.00000000e-12]\n"
     ]
    }
   ],
   "source": [
    "print(xval[(xval>0.124)*(xval<0.13)],sol.y[0:Nx,-1][(xval>0.124)*(xval<0.13)])"
   ]
  },
  {
   "cell_type": "code",
   "execution_count": null,
   "metadata": {},
   "outputs": [],
   "source": []
  }
 ],
 "metadata": {
  "kernelspec": {
   "display_name": "Python 3",
   "language": "python",
   "name": "python3"
  },
  "language_info": {
   "codemirror_mode": {
    "name": "ipython",
    "version": 3
   },
   "file_extension": ".py",
   "mimetype": "text/x-python",
   "name": "python",
   "nbconvert_exporter": "python",
   "pygments_lexer": "ipython3",
   "version": "3.7.3"
  }
 },
 "nbformat": 4,
 "nbformat_minor": 2
}
