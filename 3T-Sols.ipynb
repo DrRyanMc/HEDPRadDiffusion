{
 "cells": [
  {
   "cell_type": "code",
   "execution_count": 1,
   "metadata": {},
   "outputs": [],
   "source": [
    "import numpy as np\n",
    "import matplotlib.pyplot as plt\n",
    "import math\n",
    "from scipy import interpolate\n",
    "from scipy import integrate\n",
    "import time\n",
    "import numpy as np\n",
    "import matplotlib\n",
    "import matplotlib.pyplot as plt\n",
    "from math import sqrt"
   ]
  },
  {
   "cell_type": "markdown",
   "metadata": {},
   "source": [
    "### Derive form for ODE in way that can be solved.\n",
    "Starting with 16 \n",
    "\\begin{equation}\n",
    "    -\\xi \\frac{dT_e}{d\\xi} = \\frac{d^2 T_e^{n+4}}{d\\xi^2} + \\beta e \\gamma_0 (T_i-T_e)\n",
    "\\end{equation}\n",
    "define u\n",
    "$$u(\\xi) = T'(\\xi)  $$\n",
    "$$\\frac{d^2 T_e^{n+4}}{d \\xi} = (n+4) T_e(\\xi)^{n+2} \\left((n+3) u^2+T_e(\\xi) u'(\\xi)\\right).$$\n",
    "\n",
    "16 becomes \n",
    "\\begin{equation}\n",
    "    -\\xi u = (n+4) T_e(\\xi)^{n+2} \\left((n+3) u^2+T_e(\\xi) u'(\\xi)\\right) + B_e(T_i-T_e)\n",
    "\\end{equation}\n",
    "Solving for u'\n",
    "$\n",
    "\\begin{equation}\n",
    "     \\frac{-\\xi u - B_e(T_i-T_e)}{(n+4)T_e^{n+2}}-(n+3)u^2 = T_e(\\xi)u'(\\xi)\n",
    "\\end{equation}\n",
    "Simplifying \n",
    "\\begin{equation}\n",
    "    u' = -\\frac{\\frac{(\\xi u + B_e(Ti-T_e))T_e^{-n} }{n+4} + (n+3)u^2T_e^2}{T_e^3}\n",
    "\\end{equation}\n",
    "Finding the derivative of Ti\n",
    "\\begin{equation}\\label{eq:17}\n",
    "    \\xi \\frac{dT_i}{d\\xi} = \\beta_i\\gamma_0(T_i-T_e)\n",
    "\\end{equation}\n",
    "\\begin{equation}\n",
    "    Ti' = \\frac{B_i(T_i-T_e)}{\\xi}\n",
    "\\end{equation}"
   ]
  },
  {
   "cell_type": "markdown",
   "metadata": {},
   "source": [
    "### Find initial conditions\n",
    "Te initial conditions zero order \n",
    "\\begin{equation}\n",
    "    T_e^0(\\xi) = \\bigg{(}\\frac{(n+3)}{(n+4)}\\xi_{\\mathrm{max}}({\\xi_{\\mathrm{max}}}-\\xi)\\bigg{)}^{1/(n+3)}\n",
    "\\end{equation}\n",
    "The derivative of this equation is \n",
    "\\begin{equation}\n",
    "    \\frac{dT_e^0}{d\\xi} = -\\bigg{(}\\frac{(n+3)}{(n+4)}\\xi_{\\mathrm{max}}\\bigg{)}^{1/(n+3)}\\bigg{(}\\frac{(\\xi_{\\mathrm{max}}-\\xi)}{n+3}\\bigg{)}^{(2-n)/(n+3)}\n",
    "\\end{equation}\n",
    "Initial conditions for Ti from 33\n",
    "\\begin{equation}\n",
    "    T^0_i(\\xi)= B_i\\frac{(n+3)}{(n+4)}(\\xi_{\\mathrm{max}}-\\xi)T_e^0(\\xi)\n",
    "\\end{equation}"
   ]
  },
  {
   "cell_type": "markdown",
   "metadata": {},
   "source": [
    "### Test Problem\n",
    "$$ B_e = \\beta_e\\gamma_0$$\n",
    "$$\\beta_e = \\frac{1}{\\rho C_{ve}}$$\n",
    "$$C_{ve} = 0.1\\rho, C_{vi} = 0.05\\rho [GJcm^{-3}keV^{-1}]$$\n",
    "$$\\gamma_0 = 3.0GJ/(cm^3keV-ns)$$\n",
    "$$\\rho = 3.0 g cm^{-3}$$"
   ]
  },
  {
   "cell_type": "markdown",
   "metadata": {},
   "source": [
    "### Timestep\n",
    "$$ A = \\frac{1}{2\\alpha} $$\n",
    "$$ \\alpha = \\frac{ac}{3} \\frac{4}{n+4} \\frac{1}{\\kappa_0} \\frac{1}{\\rho C_{ve}} $$\n",
    "Using the A defined in Petshek paper\n",
    "$$ A^2 = \\frac{1}{2K}$$\n",
    "$$m = n+4$$\n",
    "$$ K = \\frac{ac}{3} \\frac{4}{n+4} \\frac{1}{\\kappa_0} \\frac{1}{ C_{ve}\\rho^{2}} $$\n",
    "$$ a = 0.01372 GJKeV^{-4} cm^{-3}$$-Wolbier paper\n",
    "$$ c = 29.9792458 (cm ns^{-1}) $$\n",
    "$$ \\frac{\\xi\\sqrt{\\tau}}{A}=x $$"
   ]
  },
  {
   "cell_type": "code",
   "execution_count": 2,
   "metadata": {},
   "outputs": [],
   "source": [
    "g = lambda x, xmax: ((n+3)*xmax*(-x+xmax)/(n+4))**(1/(n+3))\n",
    "gprime = lambda x, xmax: -(((n+3)/(n+4))*xmax)**(1/(n+3))*1/(n+3)*(xmax-x)**((-2-n)/(n+3))\n",
    "h = lambda x, xmax: Bi*((n+3)/(n+4))*(xmax-x)*((n+3)/(n+4)*xmax*(xmax-x))**(1/(n+3))"
   ]
  },
  {
   "cell_type": "code",
   "execution_count": 3,
   "metadata": {},
   "outputs": [],
   "source": [
    "#V[0] = Te, V[1] = u, v[2] = Ti\n",
    "RHSfun = lambda t,v: np.array([v[1], \n",
    "                               ((-t*v[1] - Be*(v[2]-v[0]))*(v[0]**(-n))/(n+4)-(n+3)*(v[1]**2)*(v[0]**2))/(v[0]**3), \n",
    "                               Bi*(v[2]-v[0])/t])\n",
    "\n"
   ]
  },
  {
   "cell_type": "code",
   "execution_count": 56,
   "metadata": {},
   "outputs": [
    {
     "name": "stdout",
     "output_type": "stream",
     "text": [
      "A =  7.578766058136872\n",
      "3.333333333333333 6.666666666666666 6.666666666666666 3.333333333333333 3\n"
     ]
    }
   ],
   "source": [
    "n = 3\n",
    "c=299.792458\n",
    "xmax = 1.12\n",
    "a=0.01372\n",
    "kappa0= 100\n",
    "tol = 1e-3\n",
    "Cve=0.1\n",
    "Cvi=.05\n",
    "rho = 3.0\n",
    "gamma0 = 1.0\n",
    "K = a*c*4/(3*(n+4)*kappa0*Cve*rho**2)\n",
    "A = sqrt(1/(2*K))\n",
    "print(\"A = \",A)\n",
    "Betae=1/(rho*Cve)\n",
    "Betai=1/(rho*Cvi)\n",
    "Bi = Betae*gamma0\n",
    "Be = Betai*gamma0\n",
    "IC = [g(xmax-tol,xmax),gprime(xmax-tol,xmax), h(xmax-tol,xmax)]\n",
    "output = integrate.DOP853(RHSfun, xmax,IC,0)\n",
    "print(Bi, Be, Betai, Betae,n)"
   ]
  },
  {
   "cell_type": "code",
   "execution_count": 57,
   "metadata": {},
   "outputs": [],
   "source": [
    "\n",
    "opt_fun = lambda xm: integrate.solve_ivp(RHSfun, (xm-tol,0), [g(xm-tol,xm),gprime(xm-tol,xm), h(xm-tol,xm)], \n",
    "                                         method='DOP853', max_step = 1e-4).y[0][-1] - 1"
   ]
  },
  {
   "cell_type": "code",
   "execution_count": 58,
   "metadata": {},
   "outputs": [
    {
     "name": "stderr",
     "output_type": "stream",
     "text": [
      "/anaconda3/lib/python3.7/site-packages/ipykernel_launcher.py:4: RuntimeWarning: divide by zero encountered in double_scalars\n",
      "  after removing the cwd from sys.path.\n",
      "/anaconda3/lib/python3.7/site-packages/ipykernel_launcher.py:4: RuntimeWarning: invalid value encountered in double_scalars\n",
      "  after removing the cwd from sys.path.\n"
     ]
    },
    {
     "name": "stdout",
     "output_type": "stream",
     "text": [
      "0.7647859303039829\n"
     ]
    }
   ],
   "source": [
    "from scipy import optimize\n",
    "minval = optimize.brentq(opt_fun, .5,1.5)\n",
    "print(minval)"
   ]
  },
  {
   "cell_type": "code",
   "execution_count": 59,
   "metadata": {},
   "outputs": [
    {
     "name": "stderr",
     "output_type": "stream",
     "text": [
      "/anaconda3/lib/python3.7/site-packages/ipykernel_launcher.py:4: RuntimeWarning: divide by zero encountered in double_scalars\n",
      "  after removing the cwd from sys.path.\n",
      "/anaconda3/lib/python3.7/site-packages/ipykernel_launcher.py:4: RuntimeWarning: invalid value encountered in double_scalars\n",
      "  after removing the cwd from sys.path.\n"
     ]
    },
    {
     "name": "stdout",
     "output_type": "stream",
     "text": [
      "0.03191107158684247\n",
      "0.07135532530304185\n",
      "0.10091166879110586\n"
     ]
    },
    {
     "data": {
      "image/png": "[encoded data removed]",
      "text/plain": [
       "<Figure size 432x288 with 1 Axes>"
      ]
     },
     "metadata": {
      "needs_background": "light"
     },
     "output_type": "display_data"
    },
    {
     "data": {
      "image/png": "[encoded data removed]",
      "text/plain": [
       "<Figure size 432x288 with 1 Axes>"
      ]
     },
     "metadata": {
      "needs_background": "light"
     },
     "output_type": "display_data"
    }
   ],
   "source": [
    "sol = integrate.solve_ivp(RHSfun, (minval-tol,0), IC, method='DOP853', max_step = 1e-4)\n",
    "plt.figure(1)\n",
    "plt.plot(sol.t, sol.y[0], label=\"Te\")\n",
    "plt.plot(sol.t, sol.y[2], label =\"Ti\")\n",
    "plt.legend()\n",
    "plt.xlabel(r\"$\\xi$\")\n",
    "plt.ylabel(\"T\")\n",
    "plt.title(\"Marshak wave n=%i\" %(n))\n",
    "plt.show\n",
    "plt.figure(2)\n",
    "for tau in [0.1,0.5,1]:#,5,10]:\n",
    "    z=sqrt(tau)/A\n",
    "    print(z*minval)\n",
    "    plt.plot(sol.t*z, sol.y[0], label=\"Te t=%.1f ns\"% (tau))\n",
    "    plt.plot(sol.t*z, sol.y[2], label =\"Ti t=%.1f ns\"% (tau))\n",
    "    plt.legend()\n",
    "    plt.xlabel(\"x (cm)\")\n",
    "    plt.ylabel(\"T (KeV)\")\n",
    "    plt.title(\"Marshak wave n=%i at 3 timesteps\" %(n))\n",
    "    np.savetxt(\"MarshakTimes_n%d_t%1.2f_Bi%1.3f_Be%1.3f.csv\" % (n,tau,Bi,Be), sol.t*z, delimiter=\",\")\n",
    "    np.savetxt(\"MarshakTi_n%d_t%1.2f_Bi%1.3f_Be%1.3f.csv\" % (n,tau,Bi,Be), sol.y[2], delimiter=\",\")\n",
    "    np.savetxt(\"MarshakTe_n%d_t%1.2f_Bi%1.3f_Be%1.3f.csv\" % (n,tau,Bi,Be), sol.y[0], delimiter=\",\")\n",
    "plt.show()"
   ]
  },
  {
   "cell_type": "code",
   "execution_count": 8,
   "metadata": {},
   "outputs": [],
   "source": []
  },
  {
   "cell_type": "code",
   "execution_count": 11,
   "metadata": {},
   "outputs": [
    {
     "data": {
      "text/plain": [
       "'MarshakTimesn2_t1.00_Bi0.17_Be0.33.csv'"
      ]
     },
     "execution_count": 11,
     "metadata": {},
     "output_type": "execute_result"
    }
   ],
   "source": [
    "\"MarshakTimesn%d_t%1.2f_Bi%1.3f_Be%1.3f.csv\" % (n,tau,Bi,Be)"
   ]
  },
  {
   "cell_type": "code",
   "execution_count": null,
   "metadata": {},
   "outputs": [],
   "source": []
  },
  {
   "cell_type": "code",
   "execution_count": null,
   "metadata": {},
   "outputs": [],
   "source": []
  },
  {
   "cell_type": "code",
   "execution_count": null,
   "metadata": {},
   "outputs": [],
   "source": []
  },
  {
   "cell_type": "code",
   "execution_count": null,
   "metadata": {},
   "outputs": [],
   "source": []
  }
 ],
 "metadata": {
  "kernelspec": {
   "display_name": "Python 3",
   "language": "python",
   "name": "python3"
  },
  "language_info": {
   "codemirror_mode": {
    "name": "ipython",
    "version": 3
   },
   "file_extension": ".py",
   "mimetype": "text/x-python",
   "name": "python",
   "nbconvert_exporter": "python",
   "pygments_lexer": "ipython3",
   "version": "3.7.3"
  }
 },
 "nbformat": 4,
 "nbformat_minor": 2
}
