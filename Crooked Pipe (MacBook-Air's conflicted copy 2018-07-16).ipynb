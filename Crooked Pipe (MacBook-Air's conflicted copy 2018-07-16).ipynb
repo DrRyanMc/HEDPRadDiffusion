{
 "cells": [
  {
   "cell_type": "code",
   "execution_count": 1,
   "metadata": {},
   "outputs": [
    {
     "name": "stderr",
     "output_type": "stream",
     "text": [
      "\u001b[1m\u001b[36mINFO: \u001b[39m\u001b[22m\u001b[36mPrecompiling module JLD.\n",
      "\u001b[39m\u001b[1m\u001b[91mERROR: \u001b[39m\u001b[22mLoadError: \u001b[91mHDF5 not properly installed. Please run Pkg.build(\"HDF5\")\u001b[39m\n",
      "Stacktrace:\n",
      " [1] \u001b[1merror\u001b[22m\u001b[22m\u001b[1m(\u001b[22m\u001b[22m::String\u001b[1m)\u001b[22m\u001b[22m at \u001b[1m./error.jl:21\u001b[22m\u001b[22m\n",
      " [2] \u001b[1minclude_from_node1\u001b[22m\u001b[22m\u001b[1m(\u001b[22m\u001b[22m::String\u001b[1m)\u001b[22m\u001b[22m at \u001b[1m./loading.jl:576\u001b[22m\u001b[22m\n",
      " [3] \u001b[1minclude\u001b[22m\u001b[22m\u001b[1m(\u001b[22m\u001b[22m::String\u001b[1m)\u001b[22m\u001b[22m at \u001b[1m./sysimg.jl:14\u001b[22m\u001b[22m\n",
      " [4] \u001b[1manonymous\u001b[22m\u001b[22m at \u001b[1m./<missing>:2\u001b[22m\u001b[22m\n",
      "while loading /Users/ryanmcclarren/.julia/v0.6/HDF5/src/HDF5.jl, in expression starting on line 38\n",
      "\u001b[1m\u001b[91mERROR: \u001b[39m\u001b[22mLoadError: \u001b[91mFailed to precompile HDF5 to /Users/ryanmcclarren/.julia/lib/v0.6/HDF5.ji.\u001b[39m\n",
      "Stacktrace:\n",
      " [1] \u001b[1mcompilecache\u001b[22m\u001b[22m\u001b[1m(\u001b[22m\u001b[22m::String\u001b[1m)\u001b[22m\u001b[22m at \u001b[1m./loading.jl:710\u001b[22m\u001b[22m\n",
      " [2] \u001b[1m_require\u001b[22m\u001b[22m\u001b[1m(\u001b[22m\u001b[22m::Symbol\u001b[1m)\u001b[22m\u001b[22m at \u001b[1m./loading.jl:463\u001b[22m\u001b[22m\n",
      " [3] \u001b[1mrequire\u001b[22m\u001b[22m\u001b[1m(\u001b[22m\u001b[22m::Symbol\u001b[1m)\u001b[22m\u001b[22m at \u001b[1m./loading.jl:405\u001b[22m\u001b[22m\n",
      " [4] \u001b[1minclude_from_node1\u001b[22m\u001b[22m\u001b[1m(\u001b[22m\u001b[22m::String\u001b[1m)\u001b[22m\u001b[22m at \u001b[1m./loading.jl:576\u001b[22m\u001b[22m\n",
      " [5] \u001b[1minclude\u001b[22m\u001b[22m\u001b[1m(\u001b[22m\u001b[22m::String\u001b[1m)\u001b[22m\u001b[22m at \u001b[1m./sysimg.jl:14\u001b[22m\u001b[22m\n",
      " [6] \u001b[1manonymous\u001b[22m\u001b[22m at \u001b[1m./<missing>:2\u001b[22m\u001b[22m\n",
      "while loading /Users/ryanmcclarren/.julia/v0.6/JLD/src/JLD.jl, in expression starting on line 4\n"
     ]
    },
    {
     "ename": "LoadError",
     "evalue": "LoadError: \u001b[91mFailed to precompile JLD to /Users/ryanmcclarren/.julia/lib/v0.6/JLD.ji.\u001b[39m\nwhile loading /Users/ryanmcclarren/Dropbox/Papers/LANL/Flux Limited Diffusion/fld.jl, in expression starting on line 9",
     "output_type": "error",
     "traceback": [
      "LoadError: \u001b[91mFailed to precompile JLD to /Users/ryanmcclarren/.julia/lib/v0.6/JLD.ji.\u001b[39m\nwhile loading /Users/ryanmcclarren/Dropbox/Papers/LANL/Flux Limited Diffusion/fld.jl, in expression starting on line 9",
      "",
      "Stacktrace:",
      " [1] \u001b[1mcompilecache\u001b[22m\u001b[22m\u001b[1m(\u001b[22m\u001b[22m::String\u001b[1m)\u001b[22m\u001b[22m at \u001b[1m./loading.jl:710\u001b[22m\u001b[22m",
      " [2] \u001b[1m_require\u001b[22m\u001b[22m\u001b[1m(\u001b[22m\u001b[22m::Symbol\u001b[1m)\u001b[22m\u001b[22m at \u001b[1m./loading.jl:497\u001b[22m\u001b[22m",
      " [3] \u001b[1mrequire\u001b[22m\u001b[22m\u001b[1m(\u001b[22m\u001b[22m::Symbol\u001b[1m)\u001b[22m\u001b[22m at \u001b[1m./loading.jl:405\u001b[22m\u001b[22m",
      " [4] \u001b[1minclude_from_node1\u001b[22m\u001b[22m\u001b[1m(\u001b[22m\u001b[22m::String\u001b[1m)\u001b[22m\u001b[22m at \u001b[1m./loading.jl:576\u001b[22m\u001b[22m",
      " [5] \u001b[1minclude\u001b[22m\u001b[22m\u001b[1m(\u001b[22m\u001b[22m::String\u001b[1m)\u001b[22m\u001b[22m at \u001b[1m./sysimg.jl:14\u001b[22m\u001b[22m"
     ]
    }
   ],
   "source": [
    "include(\"fld.jl\")\n",
    "using PyPlot\n",
    "using CSV"
   ]
  },
  {
   "cell_type": "code",
   "execution_count": 2,
   "metadata": {},
   "outputs": [
    {
     "name": "stdout",
     "output_type": "stream",
     "text": [
      "Running until time 10.0\n",
      "Size of domain in Z is 7.0\n"
     ]
    },
    {
     "ename": "LoadError",
     "evalue": "\u001b[91mUndefVarError: meshgrid not defined\u001b[39m",
     "output_type": "error",
     "traceback": [
      "\u001b[91mUndefVarError: meshgrid not defined\u001b[39m",
      ""
     ]
    }
   ],
   "source": [
    "tfinal = 10.\n",
    "println(\"Running until time $(tfinal)\")\n",
    "Nr = 40\n",
    "Nz = 140\n",
    "Lz = 7.\n",
    "println(\"Size of domain in Z is $(Lz)\")\n",
    "Lr = 2.\n",
    "dr = Lr/Nr\n",
    "dz = Lz/Nz\n",
    "\n",
    "T = zeros(Nr*Nz)+1.0e-8\n",
    "\n",
    "function sigma_func(t,T,Nr,Nz,Lr,Lz)\n",
    "    sigma = zeros(Nr,Nz) + 10*20.0\n",
    "    dr = Lr/Nr\n",
    "    dz = Lz/Nz\n",
    "    rcenter = linspace(0.5*dr, Lr-0.5*dr, Nr)\n",
    "    zcenter = linspace(0.5*dz, Lz-0.5*dz, Nz)\n",
    "    for i in 1:Nr\n",
    "        for j in 1:Nz\n",
    "            if ((rcenter[i] + dr*0.5) < 0.5) & (abs(zcenter[j] - 3.5) >=0.5)\n",
    "                sigma[i,j] = 0.01*20\n",
    "            elseif ((rcenter[i] + dr*0.5) < 1.5) & (abs(zcenter[j] - 2.75) <=0.25)\n",
    "                sigma[i,j] = 0.01*20\n",
    "            elseif ((rcenter[i] + dr*0.5) < 1.5) & (abs(zcenter[j] - 4.25) <=0.25)\n",
    "                sigma[i,j] = 0.01*20\n",
    "            elseif ( (rcenter[i] + dr*0.5  < 1.5) & (rcenter[i] - dr*0.5  > 1.0)) & (abs(zcenter[j] - 3.5) <= 1.0)\n",
    "                sigma[i,j] = 0.01*20\n",
    "            end\n",
    "        end\n",
    "    end\n",
    "    sigma\n",
    "end\n",
    "\n",
    "function Cv_func(t,T,Nr,Nz,Lr,Lz)\n",
    "    cv = zeros(Nr,Nz) + 10*0.05\n",
    "    dr = Lr/Nr\n",
    "    dz = Lz/Nz\n",
    "    rcenter = linspace(0.5*dr, Lr-0.5*dr, Nr)\n",
    "    zcenter = linspace(0.5*dz, Lz-0.5*dz, Nz)\n",
    "    for i in 1:Nr\n",
    "        for j in 1:Nz\n",
    "            if ((rcenter[i] + dr*0.5) < 0.5) & (abs(zcenter[j] - 3.5) >=0.5)\n",
    "                cv[i,j] = 0.01*0.05\n",
    "            elseif ((rcenter[i] + dr*0.5) < 1.5) & (abs(zcenter[j] - 2.75) <=0.25)\n",
    "                cv[i,j] = 0.01*0.05\n",
    "            elseif ((rcenter[i] + dr*0.5) < 1.5) & (abs(zcenter[j] - 4.25) <=0.25)\n",
    "                cv[i,j] = 0.01*0.05\n",
    "            elseif ( (rcenter[i] + dr*0.5  < 1.5) & (rcenter[i] - dr*0.5  > 1.0)) & (abs(zcenter[j] - 3.5) <= 1.0)\n",
    "                cv[i,j] = 0.01*0.05\n",
    "            end\n",
    "        end\n",
    "    end\n",
    "    cv                 \n",
    "end\n",
    "function D_func(t,T,Nr,Nz,Lr,Lz,Er_tmp,sigma) \n",
    "    #larsen n=2 flux limiter\n",
    "    Er = reshape(T,Nr,Nz)\n",
    "    idz = Nz/Lz\n",
    "    idr = Nr/Lr\n",
    "    D = zeros(Nr,Nz) \n",
    "    for i in 1:Nr\n",
    "        for j in 1:Nz\n",
    "            gradE = zeros(2)\n",
    "            if (i > 1)\n",
    "                gradE[1] += (Er[i,j]-Er[i-1,j])*idr*0.5\n",
    "            end\n",
    "            if (i < Nr)\n",
    "                gradE[1] += (Er[i+1,j]-Er[i,j])*idr*0.5\n",
    "            end\n",
    "            if (j > 1)\n",
    "                gradE[2] += (Er[i,j]-Er[i,j-1])*idz*0.5\n",
    "            end\n",
    "            if (j < Nz)\n",
    "                gradE[2] += (Er[i,j+1]-Er[i,j])*idz*0.5\n",
    "            end\n",
    "            normGradE = sqrt(gradE[1]^2 + gradE[2]^2)/(Er[i,j] + 1e-12)\n",
    "            \n",
    "            D[i,j] = 1.0./sqrt( (3.0*sigma[i,j])^2 + normGradE^2)\n",
    "        end\n",
    "    end\n",
    "    D\n",
    "end\n",
    "\n",
    "function EOS(t,T,Nr,Nz,Lr,Lz)\n",
    "    T_tmp = reshape(T,Nr,Nz)\n",
    "    E = zeros(Nr,Nz) + T_tmp*(10*0.05)\n",
    "    dr = Lr/Nr\n",
    "    dz = Lz/Nz\n",
    "    rcenter = linspace(0.5*dr, Lr-0.5*dr, Nr)\n",
    "    zcenter = linspace(0.5*dz, Lz-0.5*dz, Nz)\n",
    "    for i in 1:Nr\n",
    "        for j in 1:Nz\n",
    "            if ((rcenter[i] + dr*0.5) < 0.5) & (abs(zcenter[j] - 3.5) >=0.5)\n",
    "                E[i,j] = T_tmp[i,j]*(0.01*0.05)\n",
    "            elseif ((rcenter[i] + dr*0.5) < 1.5) & (abs(zcenter[j] - 2.75) <=0.25)\n",
    "                E[i,j] = T_tmp[i,j]*(0.01*0.05)\n",
    "            elseif ((rcenter[i] + dr*0.5) < 1.5) & (abs(zcenter[j] - 4.25) <=0.25)\n",
    "                E[i,j] = T_tmp[i,j]*(0.01*0.05)\n",
    "            elseif ( (rcenter[i] + dr*0.5  < 1.5) & (rcenter[i] - dr*0.5  > 1.0)) & (abs(zcenter[j] - 3.5) <= 1.0)\n",
    "                E[i,j] = T_tmp[i,j]*(0.01*0.05)\n",
    "            end\n",
    "        end\n",
    "    end\n",
    "    reshape(E,Nr*Nz)                 \n",
    "end\n",
    "\n",
    "function invEOS(t,T,Nr,Nz,Lr,Lz)\n",
    "    E_tmp = reshape(T,Nr,Nz)\n",
    "    T = zeros(Nr,Nz) + E_tmp/(10*0.05)\n",
    "    dr = Lr/Nr\n",
    "    dz = Lz/Nz\n",
    "    rcenter = linspace(0.5*dr, Lr-0.5*dr, Nr)\n",
    "    zcenter = linspace(0.5*dz, Lz-0.5*dz, Nz)\n",
    "    for i in 1:Nr\n",
    "        for j in 1:Nz\n",
    "            if ((rcenter[i] + dr*0.5) < 0.5) & (abs(zcenter[j] - 3.5) >=0.5)\n",
    "                T[i,j] = E_tmp[i,j]/(0.01*0.05)\n",
    "            elseif ((rcenter[i] + dr*0.5) < 1.0) & (abs(zcenter[j] - 2.75) <=0.25)\n",
    "                T[i,j] = E_tmp[i,j]/(0.01*0.05)\n",
    "            elseif ((rcenter[i] + dr*0.5) < 1.0) & (abs(zcenter[j] - 4.25) <=0.25)\n",
    "                T[i,j] = E_tmp[i,j]/(0.01*0.05)\n",
    "            elseif ( (rcenter[i] + dr*0.5  < 1.5) & (rcenter[i] - dr*0.5  > 1.0)) & (abs(zcenter[j] - 3.5) <= 1.0)\n",
    "                T[i,j] = E_tmp[i,j]/(0.01*0.05)\n",
    "            end\n",
    "        end\n",
    "    end\n",
    "    reshape(T,Nr*Nz)                 \n",
    "end\n",
    "\n",
    "function Q_func(t,T,Nr,Nz,Lr,Lz)\n",
    "    Q = zeros(Nr,Nz)\n",
    "end\n",
    "\n",
    "rcenter = linspace(0.5*dr, Lr-0.5*dr, Nr)\n",
    "zcenter = linspace(0.5*dz, Lz-0.5*dz, Nz)\n",
    "R,Z = meshgrid(rcenter,zcenter)\n",
    "sig = sigma_func(0,T,Nr,Nz,Lr,Lz)\n",
    "pcolormesh(Z,R,(sig))"
   ]
  },
  {
   "cell_type": "code",
   "execution_count": 3,
   "metadata": {},
   "outputs": [
    {
     "ename": "LoadError",
     "evalue": "\u001b[91mUndefVarError: time_dep_RT not defined\u001b[39m",
     "output_type": "error",
     "traceback": [
      "\u001b[91mUndefVarError: time_dep_RT not defined\u001b[39m",
      ""
     ]
    }
   ],
   "source": [
    "dt = 0.005\n",
    "times, Er_t,T_t = time_dep_RT(tfinal,dt,T,zeros(Nr*Nz),D_func, sigma_func, Q_func,Cv_func,EOS,invEOS,\n",
    "                      Nr, Nz, Lr, Lz, lower_z=a*.3^4, upper_z=\"vacuum\", upper_r=\"refl\",LOUD=-1,\n",
    "    fname=\"runs/crooked_pipe$(Nr)_$(Nz)_$(dt).jld\");"
   ]
  },
  {
   "cell_type": "code",
   "execution_count": 9,
   "metadata": {},
   "outputs": [
    {
     "data": {
      "image/png": "[encoded data removed]",
      "text/plain": [
       "PyPlot.Figure(PyObject <Figure size 700x200 with 2 Axes>)"
      ]
     },
     "metadata": {},
     "output_type": "display_data"
    },
    {
     "data": {
      "text/plain": [
       "(0.025, 6.975, 0.025, 1.975)"
      ]
     },
     "execution_count": 9,
     "metadata": {},
     "output_type": "execute_result"
    }
   ],
   "source": [
    "Tr_plot = reshape((Er_t[:,size(times)[1]]/a).^.25,Nr,Nz)\n",
    "figure(figsize=(7,2))\n",
    "pcolormesh(Z,R,Tr_plot)\n",
    "colorbar()\n",
    "axis(\"scaled\")"
   ]
  },
  {
   "cell_type": "code",
   "execution_count": 10,
   "metadata": {},
   "outputs": [
    {
     "data": {
      "image/png": "[encoded data removed]",
      "text/plain": [
       "PyPlot.Figure(PyObject <Figure size 700x200 with 2 Axes>)"
      ]
     },
     "metadata": {},
     "output_type": "display_data"
    },
    {
     "data": {
      "text/plain": [
       "(0.025, 6.975, 0.025, 1.975)"
      ]
     },
     "execution_count": 10,
     "metadata": {},
     "output_type": "execute_result"
    }
   ],
   "source": [
    "T_plot = reshape(T_t[:,size(times)[1]],Nr,Nz)\n",
    "figure(figsize=(7,2))\n",
    "pcolormesh(Z,R,T_plot)\n",
    "colorbar()\n",
    "ylim(0,2)\n",
    "xlim(0,7)\n",
    "axis(\"scaled\")"
   ]
  },
  {
   "cell_type": "code",
   "execution_count": 2,
   "metadata": {},
   "outputs": [
    {
     "name": "stderr",
     "output_type": "stream",
     "text": [
      "\u001b[1m\u001b[36mINFO: \u001b[39m\u001b[22m\u001b[36mBuilding Homebrew\n",
      "\u001b[39m"
     ]
    },
    {
     "name": "stdout",
     "output_type": "stream",
     "text": [
      "Already up-to-date.\n"
     ]
    },
    {
     "name": "stderr",
     "output_type": "stream",
     "text": [
      "\u001b[1m\u001b[36mINFO: \u001b[39m\u001b[22m\u001b[36mBuilding CMakeWrapper\n",
      "\u001b[39m\u001b[1m\u001b[36mINFO: \u001b[39m\u001b[22m\u001b[36mBuilding Blosc\n",
      "\u001b[39m\u001b[1m\u001b[36mINFO: \u001b[39m\u001b[22m\u001b[36mBuilding HDF5\n",
      "\u001b[39m"
     ]
    },
    {
     "name": "stdout",
     "output_type": "stream",
     "text": [
      "==> Installing gcc from staticfloat/juliatranslated\n"
     ]
    },
    {
     "name": "stderr",
     "output_type": "stream",
     "text": [
      "Error: Operation already in progress for gcc.formula\n",
      "Another active Homebrew process is already using gcc.formula.\n",
      "Please wait for it to finish or terminate it to continue.\n",
      "\u001b[1m\u001b[33m\u001b[39m\u001b[22m\u001b[33m================================[ ERROR: HDF5 ]=================================\u001b[39m\n",
      "\n",
      "\u001b[1m\u001b[33m\u001b[39m\u001b[22m\u001b[33mLoadError: \u001b[91mfailed process: Process(`/Users/ryanmcclarren/.julia/v0.6/Homebrew/deps/usr/bin/brew install --ignore-dependencies staticfloat/juliatranslated/gcc`, ProcessExited(1)) [1]\u001b[39m\n",
      "while loading /Users/ryanmcclarren/.julia/v0.6/HDF5/deps/build.jl, in expression starting on line 41\u001b[39m\n",
      "\n",
      "\u001b[1m\u001b[33m\u001b[39m\u001b[22m\u001b[33m================================================================================\u001b[39m\n",
      "\n",
      "\u001b[1m\u001b[33m\u001b[39m\u001b[22m\u001b[33m================================[ BUILD ERRORS ]================================\u001b[39m\n",
      "\n",
      "\u001b[1m\u001b[33m\u001b[39m\u001b[22m\u001b[33mWARNING: HDF5 had build errors.\n",
      "\n",
      " - packages with build errors remain installed in /Users/ryanmcclarren/.julia/v0.6\n",
      " - build the package(s) and all dependencies with `Pkg.build(\"HDF5\")`\n",
      " - build a single package by running its `deps/build.jl` script\u001b[39m\n",
      "\n",
      "\u001b[1m\u001b[33m\u001b[39m\u001b[22m\u001b[33m================================================================================\u001b[39m\n"
     ]
    }
   ],
   "source": [
    "Pkg.build(\"HDF5\")"
   ]
  },
  {
   "cell_type": "code",
   "execution_count": null,
   "metadata": {},
   "outputs": [],
   "source": [
    "d"
   ]
  }
 ],
 "metadata": {
  "kernelspec": {
   "display_name": "Julia 0.6.3",
   "language": "julia",
   "name": "julia-0.6"
  },
  "language_info": {
   "file_extension": ".jl",
   "mimetype": "application/julia",
   "name": "julia",
   "version": "0.6.3"
  }
 },
 "nbformat": 4,
 "nbformat_minor": 2
}
