{
 "cells": [
  {
   "cell_type": "code",
   "execution_count": 27,
   "metadata": {},
   "outputs": [
    {
     "data": {
      "text/plain": [
       "Estep"
      ]
     },
     "execution_count": 27,
     "metadata": {},
     "output_type": "execute_result"
    }
   ],
   "source": [
    "using PyPlot\n",
    "using CSV\n",
    "using PyCall\n",
    "using JLD, HDF5\n",
    "\n",
    "include(\"mg-fld.jl\")"
   ]
  },
  {
   "cell_type": "code",
   "execution_count": 57,
   "metadata": {},
   "outputs": [],
   "source": [
    "E1 = zeros(15).+a\n",
    "T = zeros(15).+1;"
   ]
  },
  {
   "cell_type": "code",
   "execution_count": 58,
   "metadata": {},
   "outputs": [
    {
     "data": {
      "text/plain": [
       "15-element Array{Float64,1}:\n",
       " 0.999999868114566\n",
       " 0.999999868114566\n",
       " 0.999999868114566\n",
       " 0.999999868114566\n",
       " 0.999999868114566\n",
       " 0.999999868114566\n",
       " 0.999999868114566\n",
       " 0.999999868114566\n",
       " 0.999999868114566\n",
       " 0.999999868114566\n",
       " 0.999999868114566\n",
       " 0.999999868114566\n",
       " 0.999999868114566\n",
       " 0.999999868114566\n",
       " 0.999999868114566"
      ]
     },
     "execution_count": 58,
     "metadata": {},
     "output_type": "execute_result"
    }
   ],
   "source": [
    "B1(E1,T)/(a*c/(4*pi))"
   ]
  },
  {
   "cell_type": "code",
   "execution_count": 59,
   "metadata": {},
   "outputs": [
    {
     "data": {
      "text/plain": [
       "15-element Array{Float64,1}:\n",
       " 0.9999999668586563\n",
       " 0.9999999668586563\n",
       " 0.9999999668586563\n",
       " 0.9999999668586563\n",
       " 0.9999999668586563\n",
       " 0.9999999668586563\n",
       " 0.9999999668586563\n",
       " 0.9999999668586563\n",
       " 0.9999999668586563\n",
       " 0.9999999668586563\n",
       " 0.9999999668586563\n",
       " 0.9999999668586563\n",
       " 0.9999999668586563\n",
       " 0.9999999668586563\n",
       " 0.9999999668586563"
      ]
     },
     "execution_count": 59,
     "metadata": {},
     "output_type": "execute_result"
    }
   ],
   "source": [
    "DB1DT(E1,T)/(4*a*c/(4*pi))"
   ]
  },
  {
   "cell_type": "code",
   "execution_count": 104,
   "metadata": {},
   "outputs": [
    {
     "data": {
      "text/plain": [
       "2×2 Array{Float64,2}:\n",
       " 1.0  1.0\n",
       " 1.0  1.0"
      ]
     },
     "execution_count": 104,
     "metadata": {},
     "output_type": "execute_result"
    }
   ],
   "source": [
    "Ts = reshape([1,2,3,4.0],2,2)\n",
    "DBgDT(1e-6,1e6,Ts) ./(4*a*c*Ts.^3/4/pi)"
   ]
  },
  {
   "cell_type": "code",
   "execution_count": 41,
   "metadata": {},
   "outputs": [
    {
     "data": {
      "text/plain": [
       "5.1761888380891004e-23"
      ]
     },
     "execution_count": 41,
     "metadata": {},
     "output_type": "execute_result"
    }
   ],
   "source": [
    "imag(B1(1e-6,1+1e-6*im))/1e-6"
   ]
  },
  {
   "cell_type": "code",
   "execution_count": 40,
   "metadata": {},
   "outputs": [
    {
     "data": {
      "text/plain": [
       "5.1811174602921323e-23"
      ]
     },
     "execution_count": 40,
     "metadata": {},
     "output_type": "execute_result"
    }
   ],
   "source": [
    "imag(B1(1e-6,1+1e-3*im))/1e-3"
   ]
  },
  {
   "cell_type": "code",
   "execution_count": 42,
   "metadata": {},
   "outputs": [
    {
     "data": {
      "text/plain": [
       "1.310076146924497"
      ]
     },
     "execution_count": 42,
     "metadata": {},
     "output_type": "execute_result"
    }
   ],
   "source": [
    "DB1DT(1e-6,1)"
   ]
  },
  {
   "cell_type": "code",
   "execution_count": 46,
   "metadata": {},
   "outputs": [
    {
     "ename": "MethodError",
     "evalue": "MethodError: no method matching exp(::LinearAlgebra.Transpose{Float64,Array{Float64,1}})\nClosest candidates are:\n  exp(!Matched::BigFloat) at mpfr.jl:558\n  exp(!Matched::Missing) at math.jl:1070\n  exp(!Matched::Complex{Float16}) at math.jl:1019\n  ...",
     "output_type": "error",
     "traceback": [
      "MethodError: no method matching exp(::LinearAlgebra.Transpose{Float64,Array{Float64,1}})\nClosest candidates are:\n  exp(!Matched::BigFloat) at mpfr.jl:558\n  exp(!Matched::Missing) at math.jl:1070\n  exp(!Matched::Complex{Float16}) at math.jl:1019\n  ...",
      "",
      "Stacktrace:",
      " [1] B1(::Float64, ::Array{Float64,1}) at /Users/ryanmcclarren/Dropbox/Papers/LANL/Flux Limited Diffusion/mg-fld.jl:50",
      " [2] top-level scope at In[46]:1"
     ]
    }
   ],
   "source": [
    "B1(1e-6,[1.,2,3])"
   ]
  },
  {
   "cell_type": "code",
   "execution_count": null,
   "metadata": {},
   "outputs": [],
   "source": []
  }
 ],
 "metadata": {
  "kernelspec": {
   "display_name": "Julia 1.0.2",
   "language": "julia",
   "name": "julia-1.0"
  },
  "language_info": {
   "file_extension": ".jl",
   "mimetype": "application/julia",
   "name": "julia",
   "version": "1.0.2"
  }
 },
 "nbformat": 4,
 "nbformat_minor": 2
}
